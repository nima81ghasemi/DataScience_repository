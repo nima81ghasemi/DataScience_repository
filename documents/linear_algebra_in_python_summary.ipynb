{
 "cells": [
  {
   "cell_type": "markdown",
   "id": "d7137e0a",
   "metadata": {},
   "source": [
    "#  خلاصه نویسی نیمایی (جبرخطی در پایتون) :D"
   ]
  },
  {
   "cell_type": "markdown",
   "id": "93395c23",
   "metadata": {},
   "source": [
    "# Nima81ghasemi@proton.me"
   ]
  },
  {
   "cell_type": "markdown",
   "id": "f3bde6ff",
   "metadata": {},
   "source": [
    "#  V1.00"
   ]
  },
  {
   "cell_type": "code",
   "execution_count": 63,
   "id": "6545cb9c",
   "metadata": {},
   "outputs": [
    {
     "data": {
      "text/plain": [
       "'\\n1) بردارها و محاسبات برداری\\n2) نرم برداری\\n3) ماتریس ها و محاسبات ماتریسی\\n4) انواع ماتریس\\n5) etc\\n'"
      ]
     },
     "execution_count": 63,
     "metadata": {},
     "output_type": "execute_result"
    }
   ],
   "source": [
    "\"\"\"\n",
    "1) بردارها و محاسبات برداری\n",
    "2) نرم برداری\n",
    "3) ماتریس ها و محاسبات ماتریسی\n",
    "4) انواع ماتریس\n",
    "5) etc\n",
    "\"\"\""
   ]
  },
  {
   "cell_type": "markdown",
   "id": "895b48e4",
   "metadata": {},
   "source": [
    "# بردارها و محاسبات برداری"
   ]
  },
  {
   "cell_type": "code",
   "execution_count": 64,
   "id": "865bfa51",
   "metadata": {},
   "outputs": [
    {
     "name": "stdout",
     "output_type": "stream",
     "text": [
      "[1 2 3]\n"
     ]
    }
   ],
   "source": [
    "# ساخت یک بردار\n",
    "from numpy import array\n",
    "v = array([1, 2, 3])\n",
    "print(v)"
   ]
  },
  {
   "cell_type": "code",
   "execution_count": 65,
   "id": "8035fbf3",
   "metadata": {},
   "outputs": [
    {
     "data": {
      "text/plain": [
       "numpy.ndarray"
      ]
     },
     "execution_count": 65,
     "metadata": {},
     "output_type": "execute_result"
    }
   ],
   "source": [
    "type(v)"
   ]
  },
  {
   "cell_type": "code",
   "execution_count": 66,
   "id": "6dcd0ff8",
   "metadata": {},
   "outputs": [
    {
     "data": {
      "text/plain": [
       "'\\na and b are array(vector)\\nc = a + b\\nc = (a1 + b1, a2 + b2, a3 + b3)\\n'"
      ]
     },
     "execution_count": 66,
     "metadata": {},
     "output_type": "execute_result"
    }
   ],
   "source": [
    "# جمع برداری\n",
    "\"\"\"\n",
    "a and b are array(vector)\n",
    "c = a + b\n",
    "c = (a1 + b1, a2 + b2, a3 + b3)\n",
    "\"\"\""
   ]
  },
  {
   "cell_type": "code",
   "execution_count": 67,
   "id": "8a268d05",
   "metadata": {},
   "outputs": [
    {
     "name": "stdout",
     "output_type": "stream",
     "text": [
      "[1 2 3]\n",
      "[1 2 3]\n",
      "[2 4 6]\n"
     ]
    }
   ],
   "source": [
    "from numpy import array\n",
    "a = array([1, 2, 3])\n",
    "print(a)\n",
    "\n",
    "b = array([1, 2, 3])\n",
    "print(b)\n",
    "\n",
    "c = a + b\n",
    "print(c)"
   ]
  },
  {
   "cell_type": "code",
   "execution_count": 68,
   "id": "80d15121",
   "metadata": {},
   "outputs": [
    {
     "data": {
      "text/plain": [
       "'\\na and b are array(vector)\\nc = a - b\\nc = (a1 - b1, a2 - b2, a3 - b3)\\n'"
      ]
     },
     "execution_count": 68,
     "metadata": {},
     "output_type": "execute_result"
    }
   ],
   "source": [
    "# تفریق برداری\n",
    "\"\"\"\n",
    "a and b are array(vector)\n",
    "c = a - b\n",
    "c = (a1 - b1, a2 - b2, a3 - b3)\n",
    "\"\"\""
   ]
  },
  {
   "cell_type": "code",
   "execution_count": 69,
   "id": "62547fe3",
   "metadata": {},
   "outputs": [
    {
     "name": "stdout",
     "output_type": "stream",
     "text": [
      "[1 2 3]\n",
      "[1 2 3]\n",
      "[0 0 0]\n"
     ]
    }
   ],
   "source": [
    "from numpy import array\n",
    "a = array([1, 2, 3])\n",
    "print(a)\n",
    "\n",
    "b = array([1, 2, 3])\n",
    "print(b)\n",
    "\n",
    "c = a - b\n",
    "print(c)"
   ]
  },
  {
   "cell_type": "code",
   "execution_count": 70,
   "id": "30021ed1",
   "metadata": {},
   "outputs": [
    {
     "data": {
      "text/plain": [
       "'\\na and b are array(vector)\\nc = a * b\\nc = (a1 * b1, a2 * b2, a3 * b3)\\n'"
      ]
     },
     "execution_count": 70,
     "metadata": {},
     "output_type": "execute_result"
    }
   ],
   "source": [
    "# ضرب برداری\n",
    "\"\"\"\n",
    "a and b are array(vector)\n",
    "c = a * b\n",
    "c = (a1 * b1, a2 * b2, a3 * b3)\n",
    "\"\"\""
   ]
  },
  {
   "cell_type": "code",
   "execution_count": 71,
   "id": "677e7435",
   "metadata": {},
   "outputs": [
    {
     "name": "stdout",
     "output_type": "stream",
     "text": [
      "[1 2 3]\n",
      "[1 2 3]\n",
      "[1 4 9]\n"
     ]
    }
   ],
   "source": [
    "from numpy import array\n",
    "a = array([1, 2, 3])\n",
    "print(a)\n",
    "\n",
    "b = array([1, 2, 3])\n",
    "print(b)\n",
    "\n",
    "c = a * b\n",
    "print(c)"
   ]
  },
  {
   "cell_type": "code",
   "execution_count": 72,
   "id": "fc3139f3",
   "metadata": {},
   "outputs": [
    {
     "data": {
      "text/plain": [
       "'\\na and b are array(vector)\\nc = a / b\\nc = (a1 / b1, a2 / b2, a3 / b3)\\n'"
      ]
     },
     "execution_count": 72,
     "metadata": {},
     "output_type": "execute_result"
    }
   ],
   "source": [
    "# تقسیم برداری\n",
    "\"\"\"\n",
    "a and b are array(vector)\n",
    "c = a / b\n",
    "c = (a1 / b1, a2 / b2, a3 / b3)\n",
    "\"\"\""
   ]
  },
  {
   "cell_type": "code",
   "execution_count": 73,
   "id": "f0f754fe",
   "metadata": {
    "scrolled": true
   },
   "outputs": [
    {
     "name": "stdout",
     "output_type": "stream",
     "text": [
      "[1 2 3]\n",
      "[1 2 3]\n",
      "[1. 1. 1.]\n"
     ]
    }
   ],
   "source": [
    "from numpy import array\n",
    "a = array([1, 2, 3])\n",
    "print(a)\n",
    "\n",
    "b = array([1, 2, 3])\n",
    "print(b)\n",
    "\n",
    "c = a / b\n",
    "print(c)"
   ]
  },
  {
   "cell_type": "code",
   "execution_count": 74,
   "id": "360d5132",
   "metadata": {},
   "outputs": [
    {
     "data": {
      "text/plain": [
       "'\\na and b are array(vector)\\nc = a . b\\nc = ((a1 * b1) + (a2 * b2) + (a3 * b3))\\n'"
      ]
     },
     "execution_count": 74,
     "metadata": {},
     "output_type": "execute_result"
    }
   ],
   "source": [
    "# ضرب داخلی\n",
    "\"\"\"\n",
    "a and b are array(vector)\n",
    "c = a . b\n",
    "c = ((a1 * b1) + (a2 * b2) + (a3 * b3))\n",
    "\"\"\""
   ]
  },
  {
   "cell_type": "code",
   "execution_count": 75,
   "id": "700e46b5",
   "metadata": {},
   "outputs": [
    {
     "name": "stdout",
     "output_type": "stream",
     "text": [
      "[1 2 3]\n",
      "[1 2 3]\n",
      "14\n"
     ]
    }
   ],
   "source": [
    "from numpy import array\n",
    "a = array([1, 2, 3])\n",
    "print(a)\n",
    "\n",
    "b = array([1, 2, 3])\n",
    "print(b)\n",
    "\n",
    "c = a.dot(b)\n",
    "print(c)"
   ]
  },
  {
   "cell_type": "code",
   "execution_count": 76,
   "id": "0c5e503a",
   "metadata": {},
   "outputs": [
    {
     "data": {
      "text/plain": [
       "'\\nv is an array(vector)\\nn is a number\\nc = n * v\\nc = (n * v1, n * v2, n * v3)\\n'"
      ]
     },
     "execution_count": 76,
     "metadata": {},
     "output_type": "execute_result"
    }
   ],
   "source": [
    "# ضرب بردار اسکالر\n",
    "\"\"\"\n",
    "v is an array(vector)\n",
    "n is a number\n",
    "c = n * v\n",
    "c = (n * v1, n * v2, n * v3)\n",
    "\"\"\""
   ]
  },
  {
   "cell_type": "code",
   "execution_count": 77,
   "id": "be89407a",
   "metadata": {},
   "outputs": [
    {
     "name": "stdout",
     "output_type": "stream",
     "text": [
      "[1 2 3]\n",
      "5\n",
      "[ 5 10 15]\n"
     ]
    }
   ],
   "source": [
    "from numpy import array\n",
    "v = array([1, 2, 3])\n",
    "print(v)\n",
    "\n",
    "n = 5\n",
    "print(n)\n",
    "\n",
    "c = n * v\n",
    "print(c)"
   ]
  },
  {
   "cell_type": "markdown",
   "id": "b9aeb508",
   "metadata": {},
   "source": [
    "# نرم های برداری"
   ]
  },
  {
   "cell_type": "markdown",
   "id": "9c00792d",
   "metadata": {},
   "source": [
    "#### علامت نرم در ریاضی است ||x||"
   ]
  },
  {
   "cell_type": "markdown",
   "id": "c30e1b3d",
   "metadata": {},
   "source": [
    "#### نرم برداری = محاسبه طول یا اندازه بردار"
   ]
  },
  {
   "cell_type": "code",
   "execution_count": 78,
   "id": "44d1b6f2",
   "metadata": {},
   "outputs": [
    {
     "data": {
      "text/plain": [
       "'\\nl1(v) = (((v1**2)**0.5) + ((v2**2)**0.5) + ((v3**2)**0.5))\\n'"
      ]
     },
     "execution_count": 78,
     "metadata": {},
     "output_type": "execute_result"
    }
   ],
   "source": [
    "# l1\n",
    "\"\"\"\n",
    "l1(v) = (((v1**2)**0.5) + ((v2**2)**0.5) + ((v3**2)**0.5))\n",
    "\"\"\""
   ]
  },
  {
   "cell_type": "code",
   "execution_count": 79,
   "id": "53e8c060",
   "metadata": {},
   "outputs": [
    {
     "name": "stdout",
     "output_type": "stream",
     "text": [
      "[1 2 3]\n",
      "6.0\n"
     ]
    }
   ],
   "source": [
    "from numpy import array\n",
    "from numpy.linalg import norm\n",
    "\n",
    "a = array([1, 2, 3])\n",
    "print(a)\n",
    "\n",
    "l1 = norm(a, 1)\n",
    "print(l1)"
   ]
  },
  {
   "cell_type": "code",
   "execution_count": 80,
   "id": "034d9d07",
   "metadata": {},
   "outputs": [
    {
     "data": {
      "text/plain": [
       "'\\nl2(v) = (((v1 ** 2) + (v1 ** 2) + (v1 ** 2)) ** 0.5)\\n'"
      ]
     },
     "execution_count": 80,
     "metadata": {},
     "output_type": "execute_result"
    }
   ],
   "source": [
    "# l2\n",
    "\"\"\"\n",
    "l2(v) = (((v1 ** 2) + (v1 ** 2) + (v1 ** 2)) ** 0.5)\n",
    "\"\"\""
   ]
  },
  {
   "cell_type": "code",
   "execution_count": 81,
   "id": "f6ae996c",
   "metadata": {},
   "outputs": [
    {
     "name": "stdout",
     "output_type": "stream",
     "text": [
      "[1 2 3]\n",
      "3.7416573867739413\n"
     ]
    }
   ],
   "source": [
    "from numpy import array\n",
    "from numpy.linalg import norm\n",
    "\n",
    "a = array([1, 2, 3])\n",
    "print(a)\n",
    "\n",
    "l2 = norm(a)\n",
    "print(l2)"
   ]
  },
  {
   "cell_type": "code",
   "execution_count": 82,
   "id": "af61d3bc",
   "metadata": {},
   "outputs": [
    {
     "data": {
      "text/plain": [
       "'\\nlinf(v) = max v1 v2 v3 \\n'"
      ]
     },
     "execution_count": 82,
     "metadata": {},
     "output_type": "execute_result"
    }
   ],
   "source": [
    "# linf\n",
    "\"\"\"\n",
    "linf(v) = max v1 v2 v3 \n",
    "\"\"\""
   ]
  },
  {
   "cell_type": "code",
   "execution_count": 83,
   "id": "d38a988c",
   "metadata": {},
   "outputs": [
    {
     "name": "stdout",
     "output_type": "stream",
     "text": [
      "[1 2 3]\n",
      "3.0\n"
     ]
    }
   ],
   "source": [
    "from math import inf\n",
    "from numpy import array\n",
    "from numpy.linalg import norm\n",
    "\n",
    "a = array([1, 2, 3])\n",
    "print(a)\n",
    "\n",
    "linf = norm(a, inf)\n",
    "print(linf)"
   ]
  },
  {
   "cell_type": "markdown",
   "id": "6f48d2b7",
   "metadata": {},
   "source": [
    "# ماتریس ها و محاسبات ماتریسی"
   ]
  },
  {
   "cell_type": "code",
   "execution_count": 84,
   "id": "9dd3d372",
   "metadata": {},
   "outputs": [],
   "source": [
    "# ساخت ماتریس"
   ]
  },
  {
   "cell_type": "code",
   "execution_count": 85,
   "id": "d06d6c9a",
   "metadata": {},
   "outputs": [
    {
     "name": "stdout",
     "output_type": "stream",
     "text": [
      "[[1 2 3]\n",
      " [4 5 6]]\n"
     ]
    }
   ],
   "source": [
    "from numpy import array\n",
    "\n",
    "A = array([[1, 2, 3], [4, 5, 6]])\n",
    "print(A)"
   ]
  },
  {
   "cell_type": "code",
   "execution_count": 86,
   "id": "e891afc0",
   "metadata": {},
   "outputs": [],
   "source": [
    "# A + B"
   ]
  },
  {
   "cell_type": "code",
   "execution_count": 87,
   "id": "7e1e058e",
   "metadata": {},
   "outputs": [
    {
     "name": "stdout",
     "output_type": "stream",
     "text": [
      "A : \n",
      " [[1 2 3]\n",
      " [4 5 6]] \n",
      "\n",
      "B : \n",
      " [[1 2 3]\n",
      " [4 5 6]] \n",
      "\n",
      "A + B : \n",
      " [[ 2  4  6]\n",
      " [ 8 10 12]]\n"
     ]
    }
   ],
   "source": [
    "from numpy import array\n",
    "\n",
    "A = array([[1, 2, 3], [4, 5, 6]])\n",
    "print('A : \\n', A, '\\n')\n",
    "\n",
    "B = array([[1, 2, 3], [4, 5, 6]])\n",
    "print('B : \\n', B, '\\n')\n",
    "\n",
    "C = A + B\n",
    "print('A + B : \\n', C)"
   ]
  },
  {
   "cell_type": "code",
   "execution_count": 88,
   "id": "4f9fed24",
   "metadata": {},
   "outputs": [],
   "source": [
    "# A - B"
   ]
  },
  {
   "cell_type": "code",
   "execution_count": 89,
   "id": "9f3af597",
   "metadata": {},
   "outputs": [
    {
     "name": "stdout",
     "output_type": "stream",
     "text": [
      "A : \n",
      " [[1 2 3]\n",
      " [4 5 6]] \n",
      "\n",
      "B : \n",
      " [[1 2 3]\n",
      " [4 5 6]] \n",
      "\n",
      "A - B : \n",
      " [[0 0 0]\n",
      " [0 0 0]]\n"
     ]
    }
   ],
   "source": [
    "from numpy import array\n",
    "\n",
    "A = array([[1, 2, 3], [4, 5, 6]])\n",
    "print('A : \\n', A, '\\n')\n",
    "\n",
    "B = array([[1, 2, 3], [4, 5, 6]])\n",
    "print('B : \\n', B, '\\n')\n",
    "\n",
    "C = A - B\n",
    "print('A - B : \\n', C)"
   ]
  },
  {
   "cell_type": "code",
   "execution_count": 90,
   "id": "da81a8ba",
   "metadata": {},
   "outputs": [],
   "source": [
    "# A * B\n",
    "# (از نظر ریاضی برای ماتریس ها درست نیست جوابش)"
   ]
  },
  {
   "cell_type": "code",
   "execution_count": 91,
   "id": "df3c7248",
   "metadata": {},
   "outputs": [
    {
     "name": "stdout",
     "output_type": "stream",
     "text": [
      "A : \n",
      " [[1 2 3]\n",
      " [4 5 6]] \n",
      "\n",
      "B : \n",
      " [[1 2 3]\n",
      " [4 5 6]] \n",
      "\n",
      "A * B : \n",
      " [[ 1  4  9]\n",
      " [16 25 36]]\n"
     ]
    }
   ],
   "source": [
    "from numpy import array\n",
    "\n",
    "A = array([[1, 2, 3], [4, 5, 6]])\n",
    "print('A : \\n', A, '\\n')\n",
    "\n",
    "B = array([[1, 2, 3], [4, 5, 6]])\n",
    "print('B : \\n', B, '\\n')\n",
    "\n",
    "C = A * B\n",
    "print('A * B : \\n', C)"
   ]
  },
  {
   "cell_type": "code",
   "execution_count": 92,
   "id": "373e9b37",
   "metadata": {},
   "outputs": [],
   "source": [
    "# A / B\n",
    "# (از نظر ریاضی برای ماتریس ها درست نیست جوابش)"
   ]
  },
  {
   "cell_type": "code",
   "execution_count": 93,
   "id": "59755ebf",
   "metadata": {},
   "outputs": [
    {
     "name": "stdout",
     "output_type": "stream",
     "text": [
      "A : \n",
      " [[1 2 3]\n",
      " [4 5 6]] \n",
      "\n",
      "B : \n",
      " [[1 2 3]\n",
      " [4 5 6]] \n",
      "\n",
      "A / B : \n",
      " [[1. 1. 1.]\n",
      " [1. 1. 1.]]\n"
     ]
    }
   ],
   "source": [
    "from numpy import array\n",
    "\n",
    "A = array([[1, 2, 3], [4, 5, 6]])\n",
    "print('A : \\n', A, '\\n')\n",
    "\n",
    "B = array([[1, 2, 3], [4, 5, 6]])\n",
    "print('B : \\n', B, '\\n')\n",
    "\n",
    "C = A / B\n",
    "print('A / B : \\n', C)"
   ]
  },
  {
   "cell_type": "code",
   "execution_count": 94,
   "id": "76fb0fc7",
   "metadata": {},
   "outputs": [],
   "source": [
    "# A . B"
   ]
  },
  {
   "cell_type": "code",
   "execution_count": 95,
   "id": "2fc1bb86",
   "metadata": {},
   "outputs": [
    {
     "name": "stdout",
     "output_type": "stream",
     "text": [
      "A : \n",
      " [[1 2]\n",
      " [3 4]\n",
      " [5 6]] \n",
      "\n",
      "B : \n",
      " [[1 2]\n",
      " [3 4]] \n",
      "\n",
      "A . B : \n",
      " [[ 7 10]\n",
      " [15 22]\n",
      " [23 34]]\n"
     ]
    }
   ],
   "source": [
    "from numpy import array\n",
    "\n",
    "A = array([[1, 2], [3, 4], [5, 6]])\n",
    "print('A : \\n', A, '\\n')\n",
    "\n",
    "B = array([[1, 2], [3, 4]])\n",
    "print('B : \\n', B, '\\n')\n",
    "\n",
    "C = A.dot(B)\n",
    "print('A . B : \\n', C)"
   ]
  },
  {
   "cell_type": "code",
   "execution_count": 96,
   "id": "594e77b5",
   "metadata": {},
   "outputs": [
    {
     "data": {
      "text/plain": [
       "'\\nما میتونیم به جای نوشتن\\nA.dot(B)\\nبنویسیم\\nA @ B\\nهمون کار رو انجام میده\\n------------------------\\nاگر یک ستون و ان تا سطر یا یک سطر و ان تا ستون داشته باشیم\\nبهش بردار میگن\\nولی اگر بیشتر از یک ستون و سطر داشته باشثیم \\nبهش میگن ماتریس\\n------------------------\\nبرای ضرب دو ماتریس در هم باید تعداد ستون ماتریس اول با سطر ماتریس دوم برابر باشه\\nولی تو اینجا یه مقدار جواب ها از لحاظ ریاضی متفاوت هستش\\nمن دیگه نمینویسم از لحاظ ریاضی درست یا نادرست است\\n'"
      ]
     },
     "execution_count": 96,
     "metadata": {},
     "output_type": "execute_result"
    }
   ],
   "source": [
    "# نکته های مهم\n",
    "\"\"\"\n",
    "ما میتونیم به جای نوشتن\n",
    "A.dot(B)\n",
    "بنویسیم\n",
    "A @ B\n",
    "همون کار رو انجام میده\n",
    "------------------------\n",
    "اگر یک ستون و ان تا سطر یا یک سطر و ان تا ستون داشته باشیم\n",
    "بهش بردار میگن\n",
    "ولی اگر بیشتر از یک ستون و سطر داشته باشثیم \n",
    "بهش میگن ماتریس\n",
    "------------------------\n",
    "برای ضرب دو ماتریس در هم باید تعداد ستون ماتریس اول با سطر ماتریس دوم برابر باشه\n",
    "ولی تو اینجا یه مقدار جواب ها از لحاظ ریاضی متفاوت هستش\n",
    "من دیگه نمینویسم از لحاظ ریاضی درست یا نادرست است\n",
    "\"\"\""
   ]
  },
  {
   "cell_type": "code",
   "execution_count": 97,
   "id": "5a1af432",
   "metadata": {},
   "outputs": [],
   "source": [
    "# ضرب بردار در ماتریس"
   ]
  },
  {
   "cell_type": "code",
   "execution_count": 98,
   "id": "5dba565b",
   "metadata": {},
   "outputs": [
    {
     "name": "stdout",
     "output_type": "stream",
     "text": [
      "[[1 2]\n",
      " [3 4]\n",
      " [5 6]] \n",
      "\n",
      "[0.5 0.5] \n",
      "\n",
      "[1.5 3.5 5.5]\n"
     ]
    }
   ],
   "source": [
    "from numpy import array\n",
    "\n",
    "A = array([[1, 2], [3, 4], [5, 6]])\n",
    "print(A, '\\n')\n",
    "\n",
    "B = array([0.5, 0.5])\n",
    "print(B, '\\n')\n",
    "\n",
    "C = A @ B\n",
    "print(C)"
   ]
  },
  {
   "cell_type": "code",
   "execution_count": 99,
   "id": "771d66fa",
   "metadata": {},
   "outputs": [],
   "source": [
    "# ضرب ماتریس اسکالر"
   ]
  },
  {
   "cell_type": "code",
   "execution_count": 100,
   "id": "d5917855",
   "metadata": {},
   "outputs": [
    {
     "name": "stdout",
     "output_type": "stream",
     "text": [
      "A : \n",
      " [[1 2]\n",
      " [3 4]\n",
      " [5 6]] \n",
      "\n",
      "B : \n",
      " 2 \n",
      "\n",
      "A * B : \n",
      " [[ 2  4]\n",
      " [ 6  8]\n",
      " [10 12]]\n"
     ]
    }
   ],
   "source": [
    "from numpy import array\n",
    "\n",
    "A = array([[1, 2], [3, 4], [5, 6]])\n",
    "print('A : \\n', A, '\\n')\n",
    "\n",
    "B = 2\n",
    "print('B : \\n', B, '\\n')\n",
    "\n",
    "C = A * B\n",
    "print('A * B : \\n', C)"
   ]
  },
  {
   "cell_type": "markdown",
   "id": "0ee67271",
   "metadata": {},
   "source": [
    "# انواع ماتریس"
   ]
  },
  {
   "cell_type": "code",
   "execution_count": 101,
   "id": "9ffface1",
   "metadata": {},
   "outputs": [
    {
     "data": {
      "text/plain": [
       "'\\n    1  2\\n    3  4\\n    \\n    n = m\\n'"
      ]
     },
     "execution_count": 101,
     "metadata": {},
     "output_type": "execute_result"
    }
   ],
   "source": [
    "# مربعی\n",
    "\"\"\"\n",
    "    1  2\n",
    "    3  4\n",
    "    \n",
    "    n = m\n",
    "\"\"\""
   ]
  },
  {
   "cell_type": "code",
   "execution_count": 102,
   "id": "83230225",
   "metadata": {},
   "outputs": [
    {
     "data": {
      "text/plain": [
       "'\\n    1  2\\n    2  1\\n    \\n    n = m\\n    M = M(T) transpose\\n'"
      ]
     },
     "execution_count": 102,
     "metadata": {},
     "output_type": "execute_result"
    }
   ],
   "source": [
    "# متقارن\n",
    "\"\"\"\n",
    "    1  2\n",
    "    2  1\n",
    "    \n",
    "    n = m\n",
    "    M = M(T) transpose\n",
    "\"\"\""
   ]
  },
  {
   "cell_type": "code",
   "execution_count": 103,
   "id": "9156fa2e",
   "metadata": {},
   "outputs": [
    {
     "data": {
      "text/plain": [
       "'\\n    1  2  3\\n    0  2  3\\n    0  0  3\\n    مثلثی بالا هستش\\n    ----------------\\n    1  0  0\\n    1  2  0\\n    1  2  3\\n    مثلثی پایین هستش\\n'"
      ]
     },
     "execution_count": 103,
     "metadata": {},
     "output_type": "execute_result"
    }
   ],
   "source": [
    "# مثلثی\n",
    "\"\"\"\n",
    "    1  2  3\n",
    "    0  2  3\n",
    "    0  0  3\n",
    "    مثلثی بالا هستش\n",
    "    ----------------\n",
    "    1  0  0\n",
    "    1  2  0\n",
    "    1  2  3\n",
    "    مثلثی پایین هستش\n",
    "\"\"\""
   ]
  },
  {
   "cell_type": "code",
   "execution_count": 104,
   "id": "daf759ad",
   "metadata": {},
   "outputs": [
    {
     "data": {
      "text/plain": [
       "'\\n    1  0  0\\n    0  2  0\\n    0  0  3\\n'"
      ]
     },
     "execution_count": 104,
     "metadata": {},
     "output_type": "execute_result"
    }
   ],
   "source": [
    "# قطری\n",
    "\"\"\"\n",
    "    1  0  0\n",
    "    0  2  0\n",
    "    0  0  3\n",
    "\"\"\""
   ]
  },
  {
   "cell_type": "code",
   "execution_count": 105,
   "id": "3a32635d",
   "metadata": {},
   "outputs": [
    {
     "data": {
      "text/plain": [
       "'\\n    1  0  0\\n    0  1  0\\n    0  0  1\\n'"
      ]
     },
     "execution_count": 105,
     "metadata": {},
     "output_type": "execute_result"
    }
   ],
   "source": [
    "# همانی\n",
    "\"\"\"\n",
    "    1  0  0\n",
    "    0  1  0\n",
    "    0  0  1\n",
    "\"\"\""
   ]
  },
  {
   "cell_type": "code",
   "execution_count": 106,
   "id": "8a5b912e",
   "metadata": {},
   "outputs": [
    {
     "name": "stdout",
     "output_type": "stream",
     "text": [
      "[[1. 0. 0.]\n",
      " [0. 1. 0.]\n",
      " [0. 0. 1.]]\n"
     ]
    }
   ],
   "source": [
    "# identity matrix\n",
    "from numpy import identity\n",
    "I = identity(3)\n",
    "print(I)"
   ]
  },
  {
   "cell_type": "code",
   "execution_count": 107,
   "id": "d3fe9e9d",
   "metadata": {},
   "outputs": [
    {
     "data": {
      "text/plain": [
       "'\\nM . MT = I\\n'"
      ]
     },
     "execution_count": 107,
     "metadata": {},
     "output_type": "execute_result"
    }
   ],
   "source": [
    "# ماتریس متعامد\n",
    "\"\"\"\n",
    "M . MT = I\n",
    "\"\"\""
   ]
  },
  {
   "cell_type": "code",
   "execution_count": 108,
   "id": "a3170df6",
   "metadata": {},
   "outputs": [
    {
     "name": "stdout",
     "output_type": "stream",
     "text": [
      "[[ 1  0]\n",
      " [ 0 -1]] \n",
      "\n",
      "[[ 1.  0.]\n",
      " [-0. -1.]] \n",
      "\n",
      "[[1. 0.]\n",
      " [0. 1.]]\n"
     ]
    }
   ],
   "source": [
    "from numpy import array\n",
    "from numpy.linalg import inv\n",
    "\n",
    "M = array([[1, 0], [0, -1]])\n",
    "print(M, '\\n')\n",
    "\n",
    "MT = inv(M)\n",
    "print(MT, '\\n')\n",
    "\n",
    "I = M @ MT\n",
    "print(I)"
   ]
  }
 ],
 "metadata": {
  "kernelspec": {
   "display_name": "Python 3 (ipykernel)",
   "language": "python",
   "name": "python3"
  },
  "language_info": {
   "codemirror_mode": {
    "name": "ipython",
    "version": 3
   },
   "file_extension": ".py",
   "mimetype": "text/x-python",
   "name": "python",
   "nbconvert_exporter": "python",
   "pygments_lexer": "ipython3",
   "version": "3.10.9"
  }
 },
 "nbformat": 4,
 "nbformat_minor": 5
}
