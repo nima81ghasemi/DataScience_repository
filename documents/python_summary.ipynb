{
 "cells": [
  {
   "cell_type": "markdown",
   "id": "0e121d44",
   "metadata": {},
   "source": [
    "# خلاصه نویسی نیمایی (پایتون) :D"
   ]
  },
  {
   "cell_type": "markdown",
   "id": "619f865d",
   "metadata": {},
   "source": [
    "# Nima81ghasemi@proton.me"
   ]
  },
  {
   "cell_type": "markdown",
   "id": "2d421840",
   "metadata": {},
   "source": [
    "# V1.00"
   ]
  },
  {
   "cell_type": "code",
   "execution_count": 1,
   "id": "2467c38f",
   "metadata": {},
   "outputs": [],
   "source": [
    "string = 'Nima is god'"
   ]
  },
  {
   "cell_type": "code",
   "execution_count": 3,
   "id": "2a0e8f28",
   "metadata": {},
   "outputs": [
    {
     "data": {
      "text/plain": [
       "'Nima is god'"
      ]
     },
     "execution_count": 3,
     "metadata": {},
     "output_type": "execute_result"
    }
   ],
   "source": [
    "string"
   ]
  },
  {
   "cell_type": "code",
   "execution_count": 4,
   "id": "8bb84553",
   "metadata": {},
   "outputs": [
    {
     "data": {
      "text/plain": [
       "str"
      ]
     },
     "execution_count": 4,
     "metadata": {},
     "output_type": "execute_result"
    }
   ],
   "source": [
    "type(string)"
   ]
  },
  {
   "cell_type": "code",
   "execution_count": 5,
   "id": "7caa0a42",
   "metadata": {},
   "outputs": [
    {
     "data": {
      "text/plain": [
       "2160325073968"
      ]
     },
     "execution_count": 5,
     "metadata": {},
     "output_type": "execute_result"
    }
   ],
   "source": [
    "id(string)"
   ]
  },
  {
   "cell_type": "markdown",
   "id": "cb63735a",
   "metadata": {},
   "source": [
    "# عددی _ صحیح"
   ]
  },
  {
   "cell_type": "code",
   "execution_count": 6,
   "id": "198a4796",
   "metadata": {},
   "outputs": [],
   "source": [
    "num = 100"
   ]
  },
  {
   "cell_type": "code",
   "execution_count": 7,
   "id": "00acbda7",
   "metadata": {},
   "outputs": [
    {
     "data": {
      "text/plain": [
       "1100"
      ]
     },
     "execution_count": 7,
     "metadata": {},
     "output_type": "execute_result"
    }
   ],
   "source": [
    "num + 1000"
   ]
  },
  {
   "cell_type": "code",
   "execution_count": 8,
   "id": "5467ef29",
   "metadata": {},
   "outputs": [
    {
     "data": {
      "text/plain": [
       "200"
      ]
     },
     "execution_count": 8,
     "metadata": {},
     "output_type": "execute_result"
    }
   ],
   "source": [
    "num * 2"
   ]
  },
  {
   "cell_type": "code",
   "execution_count": 9,
   "id": "4f8c8be9",
   "metadata": {},
   "outputs": [
    {
     "data": {
      "text/plain": [
       "50.0"
      ]
     },
     "execution_count": 9,
     "metadata": {},
     "output_type": "execute_result"
    }
   ],
   "source": [
    "num / 2"
   ]
  },
  {
   "cell_type": "code",
   "execution_count": 10,
   "id": "77726edb",
   "metadata": {},
   "outputs": [
    {
     "data": {
      "text/plain": [
       "10000"
      ]
     },
     "execution_count": 10,
     "metadata": {},
     "output_type": "execute_result"
    }
   ],
   "source": [
    "num ** 2"
   ]
  },
  {
   "cell_type": "markdown",
   "id": "6cc20c5a",
   "metadata": {},
   "source": [
    "# عددی _ اعشاری"
   ]
  },
  {
   "cell_type": "code",
   "execution_count": 11,
   "id": "4df0112c",
   "metadata": {},
   "outputs": [
    {
     "data": {
      "text/plain": [
       "10000.1"
      ]
     },
     "execution_count": 11,
     "metadata": {},
     "output_type": "execute_result"
    }
   ],
   "source": [
    "1.00001e4"
   ]
  },
  {
   "cell_type": "code",
   "execution_count": 12,
   "id": "577bdb71",
   "metadata": {},
   "outputs": [
    {
     "data": {
      "text/plain": [
       "0.000100001"
      ]
     },
     "execution_count": 12,
     "metadata": {},
     "output_type": "execute_result"
    }
   ],
   "source": [
    "1.00001e-4"
   ]
  },
  {
   "cell_type": "code",
   "execution_count": 13,
   "id": "6bdf4748",
   "metadata": {
    "scrolled": true
   },
   "outputs": [
    {
     "data": {
      "text/plain": [
       "4.1"
      ]
     },
     "execution_count": 13,
     "metadata": {},
     "output_type": "execute_result"
    }
   ],
   "source": [
    "1.5 + 2.6"
   ]
  },
  {
   "cell_type": "code",
   "execution_count": 14,
   "id": "1f5b26a1",
   "metadata": {},
   "outputs": [
    {
     "data": {
      "text/plain": [
       "0.30000000000000004"
      ]
     },
     "execution_count": 14,
     "metadata": {},
     "output_type": "execute_result"
    }
   ],
   "source": [
    "0.1 + 0.2"
   ]
  },
  {
   "cell_type": "code",
   "execution_count": 15,
   "id": "44596883",
   "metadata": {
    "scrolled": true
   },
   "outputs": [
    {
     "data": {
      "text/plain": [
       "100.52"
      ]
     },
     "execution_count": 15,
     "metadata": {},
     "output_type": "execute_result"
    }
   ],
   "source": [
    "1e2 + 2e-2 + 0.5"
   ]
  },
  {
   "cell_type": "markdown",
   "id": "fa3e3510",
   "metadata": {},
   "source": [
    "# عددی _ مختلط"
   ]
  },
  {
   "cell_type": "code",
   "execution_count": 16,
   "id": "7d924e94",
   "metadata": {},
   "outputs": [],
   "source": [
    "cnum = 5 + 7j"
   ]
  },
  {
   "cell_type": "code",
   "execution_count": 17,
   "id": "3d89660a",
   "metadata": {},
   "outputs": [
    {
     "data": {
      "text/plain": [
       "complex"
      ]
     },
     "execution_count": 17,
     "metadata": {},
     "output_type": "execute_result"
    }
   ],
   "source": [
    "type(cnum)"
   ]
  },
  {
   "cell_type": "code",
   "execution_count": 18,
   "id": "e006b61c",
   "metadata": {},
   "outputs": [
    {
     "data": {
      "text/plain": [
       "5.0"
      ]
     },
     "execution_count": 18,
     "metadata": {},
     "output_type": "execute_result"
    }
   ],
   "source": [
    "cnum.real"
   ]
  },
  {
   "cell_type": "code",
   "execution_count": 19,
   "id": "7bc609dc",
   "metadata": {},
   "outputs": [
    {
     "data": {
      "text/plain": [
       "7.0"
      ]
     },
     "execution_count": 19,
     "metadata": {},
     "output_type": "execute_result"
    }
   ],
   "source": [
    "cnum.imag"
   ]
  },
  {
   "cell_type": "code",
   "execution_count": 20,
   "id": "04d6ffc5",
   "metadata": {},
   "outputs": [
    {
     "data": {
      "text/plain": [
       "(6+6.5j)"
      ]
     },
     "execution_count": 20,
     "metadata": {},
     "output_type": "execute_result"
    }
   ],
   "source": [
    "cnum + (1 - 0.5j)"
   ]
  },
  {
   "cell_type": "code",
   "execution_count": 21,
   "id": "75ab1e21",
   "metadata": {},
   "outputs": [
    {
     "data": {
      "text/plain": [
       "(7+3.5j)"
      ]
     },
     "execution_count": 21,
     "metadata": {},
     "output_type": "execute_result"
    }
   ],
   "source": [
    "cnum + 2 - 3.5j"
   ]
  },
  {
   "cell_type": "markdown",
   "id": "8c736341",
   "metadata": {},
   "source": [
    "# رشته"
   ]
  },
  {
   "cell_type": "code",
   "execution_count": 22,
   "id": "862d250b",
   "metadata": {},
   "outputs": [],
   "source": [
    "s1 = 'this is a string'"
   ]
  },
  {
   "cell_type": "code",
   "execution_count": 23,
   "id": "07caa401",
   "metadata": {},
   "outputs": [],
   "source": [
    "s2 = 'this is \"another\" string'"
   ]
  },
  {
   "cell_type": "code",
   "execution_count": 24,
   "id": "bc5c46b5",
   "metadata": {},
   "outputs": [],
   "source": [
    "s3 = 'this is a \\'new\\' string'"
   ]
  },
  {
   "cell_type": "code",
   "execution_count": 25,
   "id": "040c27d8",
   "metadata": {},
   "outputs": [],
   "source": [
    "s4 = \"\"\"this is a \n",
    "        multiline\n",
    "        string\"\"\""
   ]
  },
  {
   "cell_type": "code",
   "execution_count": 26,
   "id": "15f6b3ec",
   "metadata": {},
   "outputs": [
    {
     "name": "stdout",
     "output_type": "stream",
     "text": [
      "this is a string this is \"another\" string this is a 'new' string this is a \n",
      "        multiline\n",
      "        string\n"
     ]
    }
   ],
   "source": [
    "print(s1, s2, s3, s4)"
   ]
  },
  {
   "cell_type": "code",
   "execution_count": 27,
   "id": "3ed94396",
   "metadata": {},
   "outputs": [
    {
     "name": "stdout",
     "output_type": "stream",
     "text": [
      "this is a 'new' string\n",
      "this is a \n",
      "        multiline\n",
      "        string\n"
     ]
    }
   ],
   "source": [
    "print(s3 + '\\n' + s4)"
   ]
  },
  {
   "cell_type": "code",
   "execution_count": 28,
   "id": "69136169",
   "metadata": {},
   "outputs": [
    {
     "name": "stdout",
     "output_type": "stream",
     "text": [
      "this is a string this is \"another\" string\n"
     ]
    }
   ],
   "source": [
    "print(s1, s2)"
   ]
  },
  {
   "cell_type": "code",
   "execution_count": 29,
   "id": "828a96d8",
   "metadata": {},
   "outputs": [
    {
     "name": "stdout",
     "output_type": "stream",
     "text": [
      "this is a stringthis is \"another\" string\n"
     ]
    }
   ],
   "source": [
    "print(s1 + s2)"
   ]
  },
  {
   "cell_type": "code",
   "execution_count": 30,
   "id": "ab5d2c94",
   "metadata": {},
   "outputs": [
    {
     "data": {
      "text/plain": [
       "'this is a string this is \"another\" string'"
      ]
     },
     "execution_count": 30,
     "metadata": {},
     "output_type": "execute_result"
    }
   ],
   "source": [
    "' '.join([s1, s2])"
   ]
  },
  {
   "cell_type": "code",
   "execution_count": 31,
   "id": "19913348",
   "metadata": {},
   "outputs": [
    {
     "data": {
      "text/plain": [
       "'this is a string this is \"another\" string'"
      ]
     },
     "execution_count": 31,
     "metadata": {},
     "output_type": "execute_result"
    }
   ],
   "source": [
    "\" \".join([s1, s2])"
   ]
  },
  {
   "cell_type": "code",
   "execution_count": 32,
   "id": "6893bba2",
   "metadata": {},
   "outputs": [
    {
     "data": {
      "text/plain": [
       "'this is a string __Nima__ this is \"another\" string'"
      ]
     },
     "execution_count": 32,
     "metadata": {},
     "output_type": "execute_result"
    }
   ],
   "source": [
    "' __Nima__ '.join([s1, s2])"
   ]
  },
  {
   "cell_type": "code",
   "execution_count": 33,
   "id": "39bbfd00",
   "metadata": {},
   "outputs": [
    {
     "data": {
      "text/plain": [
       "'gnirts a si siht'"
      ]
     },
     "execution_count": 33,
     "metadata": {},
     "output_type": "execute_result"
    }
   ],
   "source": [
    "s1[::-1]"
   ]
  },
  {
   "cell_type": "code",
   "execution_count": 34,
   "id": "301a73ab",
   "metadata": {},
   "outputs": [
    {
     "data": {
      "text/plain": [
       "'git  ish'"
      ]
     },
     "execution_count": 34,
     "metadata": {},
     "output_type": "execute_result"
    }
   ],
   "source": [
    "s1[::-2]"
   ]
  },
  {
   "cell_type": "markdown",
   "id": "2deec678",
   "metadata": {},
   "source": [
    "# لیست"
   ]
  },
  {
   "cell_type": "code",
   "execution_count": 35,
   "id": "096e57e1",
   "metadata": {},
   "outputs": [],
   "source": [
    "l1 = ['eggs', 'flour', 'butter']\n",
    "l2 = list([1, 'drink', 10, 'sandwiches', 4.5e-3])\n",
    "l3 = [1, 2, 3, ['a', 'b', 'c'], ['Nima', 'python']]"
   ]
  },
  {
   "cell_type": "code",
   "execution_count": 36,
   "id": "11076477",
   "metadata": {},
   "outputs": [
    {
     "name": "stdout",
     "output_type": "stream",
     "text": [
      "['eggs', 'flour', 'butter'] [1, 'drink', 10, 'sandwiches', 0.0045] [1, 2, 3, ['a', 'b', 'c'], ['Nima', 'python']]\n"
     ]
    }
   ],
   "source": [
    "print(l1, l2, l3)"
   ]
  },
  {
   "cell_type": "code",
   "execution_count": 37,
   "id": "df4303c7",
   "metadata": {},
   "outputs": [
    {
     "data": {
      "text/plain": [
       "['eggs', 'flour', 'butter']"
      ]
     },
     "execution_count": 37,
     "metadata": {},
     "output_type": "execute_result"
    }
   ],
   "source": [
    "l1"
   ]
  },
  {
   "cell_type": "code",
   "execution_count": 38,
   "id": "db733ba4",
   "metadata": {},
   "outputs": [
    {
     "data": {
      "text/plain": [
       "'eggs'"
      ]
     },
     "execution_count": 38,
     "metadata": {},
     "output_type": "execute_result"
    }
   ],
   "source": [
    "l1[0]"
   ]
  },
  {
   "cell_type": "code",
   "execution_count": 39,
   "id": "7d68f52f",
   "metadata": {},
   "outputs": [
    {
     "data": {
      "text/plain": [
       "'flour'"
      ]
     },
     "execution_count": 39,
     "metadata": {},
     "output_type": "execute_result"
    }
   ],
   "source": [
    "l1[1]"
   ]
  },
  {
   "cell_type": "code",
   "execution_count": 40,
   "id": "e83e2dd2",
   "metadata": {},
   "outputs": [
    {
     "data": {
      "text/plain": [
       "'eggs flour'"
      ]
     },
     "execution_count": 40,
     "metadata": {},
     "output_type": "execute_result"
    }
   ],
   "source": [
    "l1[0] + ' ' + l1[1]"
   ]
  },
  {
   "cell_type": "code",
   "execution_count": 41,
   "id": "f8cdb6ab",
   "metadata": {},
   "outputs": [
    {
     "data": {
      "text/plain": [
       "[1, 'drink', 10, 'sandwiches', 0.0045]"
      ]
     },
     "execution_count": 41,
     "metadata": {},
     "output_type": "execute_result"
    }
   ],
   "source": [
    "l2"
   ]
  },
  {
   "cell_type": "code",
   "execution_count": 42,
   "id": "642255f7",
   "metadata": {},
   "outputs": [
    {
     "data": {
      "text/plain": [
       "['drink', 10]"
      ]
     },
     "execution_count": 42,
     "metadata": {},
     "output_type": "execute_result"
    }
   ],
   "source": [
    "l2[1:3]"
   ]
  },
  {
   "cell_type": "code",
   "execution_count": 43,
   "id": "ed02fda7",
   "metadata": {},
   "outputs": [
    {
     "name": "stdout",
     "output_type": "stream",
     "text": [
      "<class 'str'>\n"
     ]
    }
   ],
   "source": [
    "print(type(l1[2]))"
   ]
  },
  {
   "cell_type": "code",
   "execution_count": 44,
   "id": "7b43f1f6",
   "metadata": {},
   "outputs": [
    {
     "name": "stdout",
     "output_type": "stream",
     "text": [
      "<class 'list'>\n"
     ]
    }
   ],
   "source": [
    "print(type(l1))"
   ]
  },
  {
   "cell_type": "code",
   "execution_count": 45,
   "id": "dedf94ea",
   "metadata": {},
   "outputs": [
    {
     "data": {
      "text/plain": [
       "str"
      ]
     },
     "execution_count": 45,
     "metadata": {},
     "output_type": "execute_result"
    }
   ],
   "source": [
    "type(l1[2])"
   ]
  },
  {
   "cell_type": "code",
   "execution_count": 46,
   "id": "598c7935",
   "metadata": {},
   "outputs": [
    {
     "data": {
      "text/plain": [
       "list"
      ]
     },
     "execution_count": 46,
     "metadata": {},
     "output_type": "execute_result"
    }
   ],
   "source": [
    "type(l1)"
   ]
  },
  {
   "cell_type": "code",
   "execution_count": 47,
   "id": "346e8bcf",
   "metadata": {},
   "outputs": [],
   "source": [
    "numbers = list(range(10))"
   ]
  },
  {
   "cell_type": "code",
   "execution_count": 48,
   "id": "9865cde6",
   "metadata": {},
   "outputs": [
    {
     "name": "stdout",
     "output_type": "stream",
     "text": [
      "[0, 1, 2, 3, 4, 5, 6, 7, 8, 9]\n"
     ]
    }
   ],
   "source": [
    "print(numbers)"
   ]
  },
  {
   "cell_type": "code",
   "execution_count": 49,
   "id": "9546dd07",
   "metadata": {},
   "outputs": [
    {
     "data": {
      "text/plain": [
       "[2, 3, 4]"
      ]
     },
     "execution_count": 49,
     "metadata": {},
     "output_type": "execute_result"
    }
   ],
   "source": [
    "numbers[2:5]"
   ]
  },
  {
   "cell_type": "code",
   "execution_count": 50,
   "id": "c731b05a",
   "metadata": {},
   "outputs": [
    {
     "data": {
      "text/plain": [
       "[0, 1, 2, 3, 4, 5, 6, 7, 8, 9]"
      ]
     },
     "execution_count": 50,
     "metadata": {},
     "output_type": "execute_result"
    }
   ],
   "source": [
    "numbers[:]"
   ]
  },
  {
   "cell_type": "code",
   "execution_count": 51,
   "id": "f088b428",
   "metadata": {},
   "outputs": [
    {
     "data": {
      "text/plain": [
       "[9, 7, 5, 3, 1]"
      ]
     },
     "execution_count": 51,
     "metadata": {},
     "output_type": "execute_result"
    }
   ],
   "source": [
    "numbers[::-2]"
   ]
  },
  {
   "cell_type": "code",
   "execution_count": 52,
   "id": "3a3ce560",
   "metadata": {},
   "outputs": [
    {
     "data": {
      "text/plain": [
       "[0, 1, 2, 3, 4, 5, 6, 7, 8, 9, 0, 1, 2, 3, 4, 5, 6, 7, 8, 9]"
      ]
     },
     "execution_count": 52,
     "metadata": {},
     "output_type": "execute_result"
    }
   ],
   "source": [
    "numbers * 2 #همین لیست رو تولید کرد و به خودش چسبوند"
   ]
  },
  {
   "cell_type": "code",
   "execution_count": 53,
   "id": "17ac8cf5",
   "metadata": {},
   "outputs": [
    {
     "data": {
      "text/plain": [
       "[0, 1, 2, 3, 4, 5, 6, 7, 8, 9, 1, 'drink', 10, 'sandwiches', 0.0045]"
      ]
     },
     "execution_count": 53,
     "metadata": {},
     "output_type": "execute_result"
    }
   ],
   "source": [
    "numbers + l2"
   ]
  },
  {
   "cell_type": "code",
   "execution_count": 54,
   "id": "c0f0e13e",
   "metadata": {},
   "outputs": [
    {
     "data": {
      "text/plain": [
       "[1, 2, 3, ['a', 'b', 'c'], ['Nima', 'python']]"
      ]
     },
     "execution_count": 54,
     "metadata": {},
     "output_type": "execute_result"
    }
   ],
   "source": [
    "l3"
   ]
  },
  {
   "cell_type": "code",
   "execution_count": 55,
   "id": "d678fb81",
   "metadata": {},
   "outputs": [
    {
     "data": {
      "text/plain": [
       "['a', 'b', 'c']"
      ]
     },
     "execution_count": 55,
     "metadata": {},
     "output_type": "execute_result"
    }
   ],
   "source": [
    "l3[3]"
   ]
  },
  {
   "cell_type": "code",
   "execution_count": 56,
   "id": "7ca907de",
   "metadata": {},
   "outputs": [],
   "source": [
    "l3.append(' '.join(l3[4]))"
   ]
  },
  {
   "cell_type": "code",
   "execution_count": 57,
   "id": "fe22d782",
   "metadata": {},
   "outputs": [
    {
     "data": {
      "text/plain": [
       "[1, 2, 3, ['a', 'b', 'c'], ['Nima', 'python'], 'Nima python']"
      ]
     },
     "execution_count": 57,
     "metadata": {},
     "output_type": "execute_result"
    }
   ],
   "source": [
    "l3"
   ]
  },
  {
   "cell_type": "code",
   "execution_count": 58,
   "id": "bdbff24f",
   "metadata": {},
   "outputs": [
    {
     "data": {
      "text/plain": [
       "['a', 'b', 'c']"
      ]
     },
     "execution_count": 58,
     "metadata": {},
     "output_type": "execute_result"
    }
   ],
   "source": [
    "l3.pop(3)"
   ]
  },
  {
   "cell_type": "code",
   "execution_count": 59,
   "id": "821f1a05",
   "metadata": {},
   "outputs": [
    {
     "data": {
      "text/plain": [
       "[1, 2, 3, ['Nima', 'python'], 'Nima python']"
      ]
     },
     "execution_count": 59,
     "metadata": {},
     "output_type": "execute_result"
    }
   ],
   "source": [
    "l3"
   ]
  },
  {
   "cell_type": "code",
   "execution_count": 60,
   "id": "1ac470e0",
   "metadata": {},
   "outputs": [
    {
     "data": {
      "text/plain": [
       "5"
      ]
     },
     "execution_count": 60,
     "metadata": {},
     "output_type": "execute_result"
    }
   ],
   "source": [
    "len(l3)"
   ]
  },
  {
   "cell_type": "markdown",
   "id": "1f89479a",
   "metadata": {},
   "source": [
    "# مجموعه"
   ]
  },
  {
   "cell_type": "code",
   "execution_count": 61,
   "id": "dadac4c7",
   "metadata": {},
   "outputs": [],
   "source": [
    "l1 = [1, 1, 2, 3, 5, 5, 7, 9, 1]"
   ]
  },
  {
   "cell_type": "code",
   "execution_count": 62,
   "id": "290fb1cd",
   "metadata": {},
   "outputs": [
    {
     "data": {
      "text/plain": [
       "[1, 1, 2, 3, 5, 5, 7, 9, 1]"
      ]
     },
     "execution_count": 62,
     "metadata": {},
     "output_type": "execute_result"
    }
   ],
   "source": [
    "l1"
   ]
  },
  {
   "cell_type": "code",
   "execution_count": 63,
   "id": "f60de26d",
   "metadata": {},
   "outputs": [],
   "source": [
    "s1 = set(l1)"
   ]
  },
  {
   "cell_type": "code",
   "execution_count": 64,
   "id": "6e096a21",
   "metadata": {},
   "outputs": [
    {
     "data": {
      "text/plain": [
       "True"
      ]
     },
     "execution_count": 64,
     "metadata": {},
     "output_type": "execute_result"
    }
   ],
   "source": [
    "1 in set(l1)"
   ]
  },
  {
   "cell_type": "code",
   "execution_count": 65,
   "id": "14447bd8",
   "metadata": {},
   "outputs": [
    {
     "data": {
      "text/plain": [
       "False"
      ]
     },
     "execution_count": 65,
     "metadata": {},
     "output_type": "execute_result"
    }
   ],
   "source": [
    "100 in set(l1)"
   ]
  },
  {
   "cell_type": "code",
   "execution_count": 66,
   "id": "1494e04d",
   "metadata": {},
   "outputs": [],
   "source": [
    "s2 = {2, 5, 11}"
   ]
  },
  {
   "cell_type": "code",
   "execution_count": 67,
   "id": "6ece3ba9",
   "metadata": {},
   "outputs": [
    {
     "data": {
      "text/plain": [
       "{1, 3, 7, 9}"
      ]
     },
     "execution_count": 67,
     "metadata": {},
     "output_type": "execute_result"
    }
   ],
   "source": [
    "s1 - s2 "
   ]
  },
  {
   "cell_type": "code",
   "execution_count": 68,
   "id": "7f4492a0",
   "metadata": {},
   "outputs": [
    {
     "data": {
      "text/plain": [
       "{1, 2, 3, 5, 7, 9, 11}"
      ]
     },
     "execution_count": 68,
     "metadata": {},
     "output_type": "execute_result"
    }
   ],
   "source": [
    "s1 | s2"
   ]
  },
  {
   "cell_type": "code",
   "execution_count": 69,
   "id": "311c3e3d",
   "metadata": {},
   "outputs": [
    {
     "data": {
      "text/plain": [
       "{2, 5}"
      ]
     },
     "execution_count": 69,
     "metadata": {},
     "output_type": "execute_result"
    }
   ],
   "source": [
    "s1 & s2"
   ]
  },
  {
   "cell_type": "code",
   "execution_count": 70,
   "id": "ebb13baf",
   "metadata": {},
   "outputs": [
    {
     "data": {
      "text/plain": [
       "{1, 3, 7, 9, 11}"
      ]
     },
     "execution_count": 70,
     "metadata": {},
     "output_type": "execute_result"
    }
   ],
   "source": [
    "s1 ^ s2 # اونی که تو اولی نیست رو با اونی که تو دومی نیست را اجتماع میگیره (شکلش تو ذهنمه)"
   ]
  },
  {
   "cell_type": "markdown",
   "id": "c5204ea1",
   "metadata": {},
   "source": [
    "# دیکشنری"
   ]
  },
  {
   "cell_type": "code",
   "execution_count": 71,
   "id": "d704ed5c",
   "metadata": {},
   "outputs": [],
   "source": [
    "d1 = {'eggs' : 5, 'milk' : 3, 'spam' : 10, 'ham' : 15}"
   ]
  },
  {
   "cell_type": "code",
   "execution_count": 72,
   "id": "3d190b08",
   "metadata": {},
   "outputs": [
    {
     "data": {
      "text/plain": [
       "5"
      ]
     },
     "execution_count": 72,
     "metadata": {},
     "output_type": "execute_result"
    }
   ],
   "source": [
    "d1.get('eggs')"
   ]
  },
  {
   "cell_type": "code",
   "execution_count": 73,
   "id": "f124090e",
   "metadata": {},
   "outputs": [
    {
     "data": {
      "text/plain": [
       "5"
      ]
     },
     "execution_count": 73,
     "metadata": {},
     "output_type": "execute_result"
    }
   ],
   "source": [
    "d1['eggs']"
   ]
  },
  {
   "cell_type": "code",
   "execution_count": 74,
   "id": "de139efb",
   "metadata": {},
   "outputs": [
    {
     "data": {
      "text/plain": [
       "{'eggs': 5, 'milk': 3, 'spam': 10, 'ham': 15, 'orange': 25}"
      ]
     },
     "execution_count": 74,
     "metadata": {},
     "output_type": "execute_result"
    }
   ],
   "source": [
    "d1['orange'] = 25\n",
    "d1"
   ]
  },
  {
   "cell_type": "code",
   "execution_count": 75,
   "id": "e9fad67b",
   "metadata": {},
   "outputs": [
    {
     "data": {
      "text/plain": [
       "dict_keys(['eggs', 'milk', 'spam', 'ham', 'orange'])"
      ]
     },
     "execution_count": 75,
     "metadata": {},
     "output_type": "execute_result"
    }
   ],
   "source": [
    "d1.keys()"
   ]
  },
  {
   "cell_type": "code",
   "execution_count": 76,
   "id": "02b75fbc",
   "metadata": {},
   "outputs": [
    {
     "data": {
      "text/plain": [
       "dict_values([5, 3, 10, 15, 25])"
      ]
     },
     "execution_count": 76,
     "metadata": {},
     "output_type": "execute_result"
    }
   ],
   "source": [
    "d1.values()"
   ]
  },
  {
   "cell_type": "code",
   "execution_count": 77,
   "id": "d8df1ded",
   "metadata": {},
   "outputs": [],
   "source": [
    "d2 = dict({'orange' : 5, 'melon' : 17, 'milk' : 10})"
   ]
  },
  {
   "cell_type": "code",
   "execution_count": 78,
   "id": "12e26a6d",
   "metadata": {},
   "outputs": [
    {
     "data": {
      "text/plain": [
       "{'eggs': 5, 'milk': 10, 'spam': 10, 'ham': 15, 'orange': 5, 'melon': 17}"
      ]
     },
     "execution_count": 78,
     "metadata": {},
     "output_type": "execute_result"
    }
   ],
   "source": [
    "d1.update(d2)\n",
    "d1"
   ]
  },
  {
   "cell_type": "code",
   "execution_count": 79,
   "id": "c39c2c70",
   "metadata": {},
   "outputs": [
    {
     "data": {
      "text/plain": [
       "{'k1': 5, 'k2': [1, 2, 3, 4, 5], 'k3': {'a': 1, 'b': 2, 'c': [1, 2, 3]}}"
      ]
     },
     "execution_count": 79,
     "metadata": {},
     "output_type": "execute_result"
    }
   ],
   "source": [
    "d3 = {'k1' : 5, 'k2' : [1, 2, 3, 4, 5], 'k3' : {'a' : 1, 'b' : 2, 'c' : [1, 2, 3]}}\n",
    "d3"
   ]
  },
  {
   "cell_type": "code",
   "execution_count": 80,
   "id": "d2ef076c",
   "metadata": {},
   "outputs": [
    {
     "data": {
      "text/plain": [
       "{'a': 1, 'b': 2, 'c': [1, 2, 3]}"
      ]
     },
     "execution_count": 80,
     "metadata": {},
     "output_type": "execute_result"
    }
   ],
   "source": [
    "d3.get('k3')"
   ]
  },
  {
   "cell_type": "code",
   "execution_count": 81,
   "id": "02945626",
   "metadata": {},
   "outputs": [
    {
     "data": {
      "text/plain": [
       "[1, 2, 3]"
      ]
     },
     "execution_count": 81,
     "metadata": {},
     "output_type": "execute_result"
    }
   ],
   "source": [
    "d3.get('k3').get('c')"
   ]
  },
  {
   "cell_type": "markdown",
   "id": "511ee425",
   "metadata": {},
   "source": [
    "# تاپل"
   ]
  },
  {
   "cell_type": "code",
   "execution_count": 82,
   "id": "8bf75e84",
   "metadata": {},
   "outputs": [
    {
     "data": {
      "text/plain": [
       "(1,)"
      ]
     },
     "execution_count": 82,
     "metadata": {},
     "output_type": "execute_result"
    }
   ],
   "source": [
    "single_tuple = (1,)\n",
    "single_tuple"
   ]
  },
  {
   "cell_type": "code",
   "execution_count": 83,
   "id": "5f1ed08c",
   "metadata": {},
   "outputs": [
    {
     "data": {
      "text/plain": [
       "2160326527392"
      ]
     },
     "execution_count": 83,
     "metadata": {},
     "output_type": "execute_result"
    }
   ],
   "source": [
    "id(single_tuple)"
   ]
  },
  {
   "cell_type": "code",
   "execution_count": 84,
   "id": "371629df",
   "metadata": {},
   "outputs": [
    {
     "data": {
      "text/plain": [
       "(1, 2, 3, 4, 5)"
      ]
     },
     "execution_count": 84,
     "metadata": {},
     "output_type": "execute_result"
    }
   ],
   "source": [
    "single_tuple = single_tuple + (2, 3, 4, 5)\n",
    "single_tuple"
   ]
  },
  {
   "cell_type": "code",
   "execution_count": 85,
   "id": "a04a6337",
   "metadata": {},
   "outputs": [
    {
     "data": {
      "text/plain": [
       "2160330774848"
      ]
     },
     "execution_count": 85,
     "metadata": {},
     "output_type": "execute_result"
    }
   ],
   "source": [
    "id(single_tuple)"
   ]
  },
  {
   "cell_type": "code",
   "execution_count": 86,
   "id": "73d59b31",
   "metadata": {},
   "outputs": [
    {
     "data": {
      "text/plain": [
       "['this', 'is', 'list', '1']"
      ]
     },
     "execution_count": 86,
     "metadata": {},
     "output_type": "execute_result"
    }
   ],
   "source": [
    "tup = (['this', 'is', 'list', '1'], ['this', 'is', 'list', '2'])\n",
    "tup[0]"
   ]
  },
  {
   "cell_type": "code",
   "execution_count": 87,
   "id": "bc709ec6",
   "metadata": {},
   "outputs": [
    {
     "name": "stdout",
     "output_type": "stream",
     "text": [
      "['this', 'is', 'list', '1'] ['this', 'is', 'list', '2']\n"
     ]
    }
   ],
   "source": [
    "l1, l2 = tup\n",
    "print(l1, l2)"
   ]
  },
  {
   "cell_type": "code",
   "execution_count": 88,
   "id": "a748d11b",
   "metadata": {},
   "outputs": [],
   "source": [
    "#یادآوری مقداردهی چند متغیر "
   ]
  },
  {
   "cell_type": "code",
   "execution_count": 89,
   "id": "cce9b122",
   "metadata": {},
   "outputs": [],
   "source": [
    "a, b, *c, d = list(range(10))"
   ]
  },
  {
   "cell_type": "code",
   "execution_count": 90,
   "id": "8af53c22",
   "metadata": {},
   "outputs": [
    {
     "name": "stdout",
     "output_type": "stream",
     "text": [
      " 0 \n",
      " 1 \n",
      " [2, 3, 4, 5, 6, 7, 8] \n",
      " 9\n"
     ]
    }
   ],
   "source": [
    "print(\"\", a, '\\n', b, '\\n', c, '\\n', d) #برای خوشگلی گذاشتم دو تا دابل کوتیشن اول رو"
   ]
  },
  {
   "cell_type": "markdown",
   "id": "02627126",
   "metadata": {},
   "source": [
    "# برنامه های کنترلی"
   ]
  },
  {
   "cell_type": "markdown",
   "id": "17351eea",
   "metadata": {},
   "source": [
    "# if elif else"
   ]
  },
  {
   "cell_type": "code",
   "execution_count": 91,
   "id": "bf25568a",
   "metadata": {},
   "outputs": [
    {
     "name": "stdout",
     "output_type": "stream",
     "text": [
      "Spam\n"
     ]
    }
   ],
   "source": [
    "var = 'spam'\n",
    "if var == 'spam':\n",
    "    print('Spam')"
   ]
  },
  {
   "cell_type": "code",
   "execution_count": 92,
   "id": "cbb09f28",
   "metadata": {},
   "outputs": [
    {
     "name": "stdout",
     "output_type": "stream",
     "text": [
      "Spam\n"
     ]
    }
   ],
   "source": [
    "var = 'spam'\n",
    "if var == 'spam':\n",
    "    print('Spam')\n",
    "elif var == 'ham' :\n",
    "    print('Ham')"
   ]
  },
  {
   "cell_type": "code",
   "execution_count": 93,
   "id": "8d3a9501",
   "metadata": {},
   "outputs": [
    {
     "name": "stdout",
     "output_type": "stream",
     "text": [
      "enter your age : 1\n",
      "not adult\n"
     ]
    }
   ],
   "source": [
    "age = int(input('enter your age : '))\n",
    "if age < 18 :\n",
    "    print('not adult')\n",
    "elif age >= 18 and age <= 60 :\n",
    "    print('adult')\n",
    "else :\n",
    "    print('old')"
   ]
  },
  {
   "cell_type": "markdown",
   "id": "336044bc",
   "metadata": {},
   "source": [
    "# for"
   ]
  },
  {
   "cell_type": "code",
   "execution_count": 94,
   "id": "b6bbd936",
   "metadata": {},
   "outputs": [
    {
     "name": "stdout",
     "output_type": "stream",
     "text": [
      "0\n",
      "1\n",
      "2\n",
      "3\n",
      "4\n"
     ]
    }
   ],
   "source": [
    "numbers = range(5)\n",
    "for number in numbers:\n",
    "    print(number)"
   ]
  },
  {
   "cell_type": "code",
   "execution_count": 95,
   "id": "544f597e",
   "metadata": {},
   "outputs": [
    {
     "name": "stdout",
     "output_type": "stream",
     "text": [
      "10\n"
     ]
    }
   ],
   "source": [
    "sum = 0 \n",
    "for number in numbers:\n",
    "    sum += number\n",
    "print(sum)"
   ]
  },
  {
   "cell_type": "code",
   "execution_count": 96,
   "id": "36e6ce31",
   "metadata": {},
   "outputs": [
    {
     "name": "stdout",
     "output_type": "stream",
     "text": [
      "0\n",
      "1\n",
      "2\n"
     ]
    }
   ],
   "source": [
    "for number in numbers:\n",
    "    if number < 3:\n",
    "        print(number)\n",
    "    else:\n",
    "        break\n",
    "else:\n",
    "    print('loop exited normally')"
   ]
  },
  {
   "cell_type": "code",
   "execution_count": 97,
   "id": "abf73155",
   "metadata": {},
   "outputs": [],
   "source": [
    "del numbers #یادآوری برای پاک کردن متغییر"
   ]
  },
  {
   "cell_type": "code",
   "execution_count": 98,
   "id": "6a1f64a5",
   "metadata": {},
   "outputs": [],
   "source": [
    "numbers = [3, 5, 4]"
   ]
  },
  {
   "cell_type": "markdown",
   "id": "cfccde2f",
   "metadata": {},
   "source": [
    "# while"
   ]
  },
  {
   "cell_type": "code",
   "execution_count": 99,
   "id": "6bb61876",
   "metadata": {},
   "outputs": [
    {
     "name": "stdout",
     "output_type": "stream",
     "text": [
      "5\n",
      "4\n",
      "3\n",
      "2\n",
      "1\n"
     ]
    }
   ],
   "source": [
    "number = 5\n",
    "while number > 0:\n",
    "        print(number)\n",
    "        number -= 1"
   ]
  },
  {
   "cell_type": "code",
   "execution_count": 100,
   "id": "8771894b",
   "metadata": {},
   "outputs": [
    {
     "name": "stdout",
     "output_type": "stream",
     "text": [
      "10\n",
      "8\n",
      "6\n",
      "4\n",
      "2\n"
     ]
    }
   ],
   "source": [
    "number = 10 \n",
    "while number > 0:\n",
    "    if number % 2 != 0:\n",
    "        number -= 1\n",
    "        continue\n",
    "    print(number)\n",
    "    number -= 1"
   ]
  },
  {
   "cell_type": "code",
   "execution_count": 101,
   "id": "3005816b",
   "metadata": {},
   "outputs": [
    {
     "name": "stdout",
     "output_type": "stream",
     "text": [
      "10\n",
      "8\n",
      "6\n",
      "4\n",
      "2\n"
     ]
    }
   ],
   "source": [
    "number = 10\n",
    "while number > 0:\n",
    "    if number % 2 != 0:\n",
    "        pass #تو اینجا کار کانتینیو رو انجام میده\n",
    "    else:\n",
    "        print(number)\n",
    "    number -= 1"
   ]
  },
  {
   "cell_type": "markdown",
   "id": "b60ab656",
   "metadata": {},
   "source": [
    "# try except"
   ]
  },
  {
   "cell_type": "code",
   "execution_count": 102,
   "id": "0e9fddf9",
   "metadata": {},
   "outputs": [
    {
     "name": "stdout",
     "output_type": "stream",
     "text": [
      "Exception: list index out of range has occurred\n",
      "I will always execute, no matter what!!!\n"
     ]
    }
   ],
   "source": [
    "shopping_list = ['eggs', 'ham', 'bacon']\n",
    "try:\n",
    "    print(shopping_list[3])\n",
    "except IndexError as e:\n",
    "    print('Exception: ' + str(e) + ' has occurred') #has not printing if you dont enter one space before has\n",
    "else:\n",
    "    print('No exceptions occurred')\n",
    "finally:\n",
    "    print('I will always execute, no matter what!!!')"
   ]
  },
  {
   "cell_type": "code",
   "execution_count": 103,
   "id": "915f62c6",
   "metadata": {},
   "outputs": [
    {
     "name": "stdout",
     "output_type": "stream",
     "text": [
      "bacon\n",
      "No exceptions occurred\n",
      "I will always execute, no matter what!!!\n"
     ]
    }
   ],
   "source": [
    "try:\n",
    "    print(shopping_list[2])\n",
    "except IndexError as e:\n",
    "    print('Exception: ' + str(e) + ' has occurred')\n",
    "else:\n",
    "    print('No exceptions occurred')\n",
    "finally:\n",
    "    print('I will always execute, no matter what!!!')"
   ]
  },
  {
   "cell_type": "markdown",
   "id": "e7646f62",
   "metadata": {},
   "source": [
    "# توابع"
   ]
  },
  {
   "cell_type": "code",
   "execution_count": 104,
   "id": "5a8a555d",
   "metadata": {},
   "outputs": [],
   "source": [
    "def square(number):\n",
    "    return number * number #(number ** 2)"
   ]
  },
  {
   "cell_type": "code",
   "execution_count": 105,
   "id": "1b2f50fd",
   "metadata": {},
   "outputs": [
    {
     "data": {
      "text/plain": [
       "25"
      ]
     },
     "execution_count": 105,
     "metadata": {},
     "output_type": "execute_result"
    }
   ],
   "source": [
    "square(5)"
   ]
  },
  {
   "cell_type": "code",
   "execution_count": 106,
   "id": "8be8bc10",
   "metadata": {},
   "outputs": [],
   "source": [
    "def squares(*args):\n",
    "    squared_args = []\n",
    "    for item in args:\n",
    "        squared_args.append(item ** 2)\n",
    "    return squared_args"
   ]
  },
  {
   "cell_type": "code",
   "execution_count": 107,
   "id": "92c64214",
   "metadata": {},
   "outputs": [
    {
     "data": {
      "text/plain": [
       "[1, 4, 9, 16]"
      ]
     },
     "execution_count": 107,
     "metadata": {},
     "output_type": "execute_result"
    }
   ],
   "source": [
    "squares(1, 2, 3, 4)"
   ]
  },
  {
   "cell_type": "code",
   "execution_count": 108,
   "id": "a40311e7",
   "metadata": {},
   "outputs": [],
   "source": [
    "def person_details(**kwargs):\n",
    "    for key, value in kwargs.items():\n",
    "        print(key, '-->', value) #چون میدونیم همه داده های داخل دیکشنری استرینگ هستن این کد رو اینجوری نوشتم"
   ]
  },
  {
   "cell_type": "code",
   "execution_count": 109,
   "id": "2fa47aad",
   "metadata": {},
   "outputs": [
    {
     "name": "stdout",
     "output_type": "stream",
     "text": [
      "name --> Nima\n",
      "alies --> god_nima_XD\n",
      "job --> being god\n"
     ]
    }
   ],
   "source": [
    "person_details(name = 'Nima', alies = 'god_nima_XD', job = 'being god')"
   ]
  },
  {
   "cell_type": "code",
   "execution_count": 110,
   "id": "9116cfb9",
   "metadata": {},
   "outputs": [
    {
     "data": {
      "text/plain": [
       "dict_items([('name', 'Nima'), ('alies', 'god_nima_XD'), ('job', 'being god')])"
      ]
     },
     "execution_count": 110,
     "metadata": {},
     "output_type": "execute_result"
    }
   ],
   "source": [
    "a = {'name' : 'Nima', 'alies' : 'god_nima_XD', 'job' : 'being god'}\n",
    "a.items()"
   ]
  },
  {
   "cell_type": "code",
   "execution_count": 111,
   "id": "0d82ea7a",
   "metadata": {},
   "outputs": [],
   "source": [
    "#توابع بازگشتی\n",
    "numbers = range(6)\n",
    "#print(numbers[0]) # --> 0\n",
    "#type(numbers) # --> range\n",
    "def recursive_squares(numbers):\n",
    "    if not numbers:\n",
    "        return []\n",
    "    else:\n",
    "        return [numbers[0] ** 2] + recursive_squares(numbers[1:])"
   ]
  },
  {
   "cell_type": "code",
   "execution_count": 112,
   "id": "a245469a",
   "metadata": {},
   "outputs": [
    {
     "data": {
      "text/plain": [
       "[0, 1, 4, 9, 16, 25]"
      ]
     },
     "execution_count": 112,
     "metadata": {},
     "output_type": "execute_result"
    }
   ],
   "source": [
    "recursive_squares(numbers)"
   ]
  },
  {
   "cell_type": "markdown",
   "id": "8478b882",
   "metadata": {},
   "source": [
    "# توابع پنهان"
   ]
  },
  {
   "cell_type": "code",
   "execution_count": 113,
   "id": "a7b0d83d",
   "metadata": {},
   "outputs": [],
   "source": [
    "lambda_square = lambda n : n ** 2"
   ]
  },
  {
   "cell_type": "code",
   "execution_count": 114,
   "id": "f2060bf8",
   "metadata": {},
   "outputs": [
    {
     "data": {
      "text/plain": [
       "25"
      ]
     },
     "execution_count": 114,
     "metadata": {},
     "output_type": "execute_result"
    }
   ],
   "source": [
    "lambda_square(5)"
   ]
  },
  {
   "cell_type": "markdown",
   "id": "8439ab62",
   "metadata": {},
   "source": [
    "# Iterators"
   ]
  },
  {
   "cell_type": "code",
   "execution_count": 115,
   "id": "67341b18",
   "metadata": {},
   "outputs": [
    {
     "name": "stdout",
     "output_type": "stream",
     "text": [
      "0\n",
      "1\n",
      "2\n",
      "3\n",
      "4\n"
     ]
    }
   ],
   "source": [
    "numbers = range(5)\n",
    "for number in numbers:\n",
    "    print(number)"
   ]
  },
  {
   "cell_type": "markdown",
   "id": "dc2c07a0",
   "metadata": {},
   "source": [
    "# Comprehensions"
   ]
  },
  {
   "cell_type": "code",
   "execution_count": 116,
   "id": "ad9b9270",
   "metadata": {},
   "outputs": [
    {
     "data": {
      "text/plain": [
       "range(0, 4)"
      ]
     },
     "execution_count": 116,
     "metadata": {},
     "output_type": "execute_result"
    }
   ],
   "source": [
    "numbers = range(4)\n",
    "numbers"
   ]
  },
  {
   "cell_type": "code",
   "execution_count": 117,
   "id": "c5b08436",
   "metadata": {},
   "outputs": [
    {
     "data": {
      "text/plain": [
       "[0, 1, 4, 9]"
      ]
     },
     "execution_count": 117,
     "metadata": {},
     "output_type": "execute_result"
    }
   ],
   "source": [
    "[num ** 2 for num in numbers]"
   ]
  },
  {
   "cell_type": "code",
   "execution_count": 118,
   "id": "244c2748",
   "metadata": {},
   "outputs": [
    {
     "data": {
      "text/plain": [
       "[0, 1, 0, 1]"
      ]
     },
     "execution_count": 118,
     "metadata": {},
     "output_type": "execute_result"
    }
   ],
   "source": [
    "[num % 2 for num in numbers]"
   ]
  },
  {
   "cell_type": "code",
   "execution_count": 119,
   "id": "0e88f842",
   "metadata": {},
   "outputs": [
    {
     "data": {
      "text/plain": [
       "{0, 1}"
      ]
     },
     "execution_count": 119,
     "metadata": {},
     "output_type": "execute_result"
    }
   ],
   "source": [
    "set(num % 2 for num in numbers)"
   ]
  },
  {
   "cell_type": "code",
   "execution_count": 120,
   "id": "badf9f3b",
   "metadata": {},
   "outputs": [
    {
     "data": {
      "text/plain": [
       "{0: 0, 1: 1, 2: 4, 3: 9}"
      ]
     },
     "execution_count": 120,
     "metadata": {},
     "output_type": "execute_result"
    }
   ],
   "source": [
    "{num : num ** 2 for num in numbers}"
   ]
  },
  {
   "cell_type": "code",
   "execution_count": 121,
   "id": "690755bd",
   "metadata": {},
   "outputs": [
    {
     "data": {
      "text/plain": [
       "[{'number': 0, 'square': 0, 'type': 'even'},\n",
       " {'number': 1, 'square': 1, 'type': 'odd'},\n",
       " {'number': 2, 'square': 4, 'type': 'even'},\n",
       " {'number': 3, 'square': 9, 'type': 'odd'}]"
      ]
     },
     "execution_count": 121,
     "metadata": {},
     "output_type": "execute_result"
    }
   ],
   "source": [
    "[{'number' : num, 'square' : num ** 2, 'type' : 'even' if num % 2 == 0 else 'odd'} for num in numbers]"
   ]
  },
  {
   "cell_type": "code",
   "execution_count": 122,
   "id": "3d105752",
   "metadata": {},
   "outputs": [],
   "source": [
    "list_of_lists = [[1, 2, 3, 4], [5, 6, 7, 8], [9, 10, 11, 12]]"
   ]
  },
  {
   "cell_type": "code",
   "execution_count": 123,
   "id": "d47d8a69",
   "metadata": {},
   "outputs": [
    {
     "data": {
      "text/plain": [
       "[1, 2, 3, 4, 5, 6, 7, 8, 9, 10, 11, 12]"
      ]
     },
     "execution_count": 123,
     "metadata": {},
     "output_type": "execute_result"
    }
   ],
   "source": [
    "[item for each_list in list_of_lists for item in each_list]"
   ]
  },
  {
   "cell_type": "markdown",
   "id": "a8cc7870",
   "metadata": {},
   "source": [
    "# Generators"
   ]
  },
  {
   "cell_type": "code",
   "execution_count": 124,
   "id": "b7406f19",
   "metadata": {},
   "outputs": [],
   "source": [
    "numbers = [1, 2, 3, 4, 5]"
   ]
  },
  {
   "cell_type": "code",
   "execution_count": 125,
   "id": "e2aa47a7",
   "metadata": {},
   "outputs": [],
   "source": [
    "def generate_squares(numbers):\n",
    "    for number in numbers:\n",
    "        yield number ** 2"
   ]
  },
  {
   "cell_type": "code",
   "execution_count": 126,
   "id": "9df1275b",
   "metadata": {},
   "outputs": [
    {
     "name": "stdout",
     "output_type": "stream",
     "text": [
      "1\n",
      "4\n",
      "9\n",
      "16\n",
      "25\n"
     ]
    }
   ],
   "source": [
    "gen_obj = generate_squares(numbers)\n",
    "gen_obj\n",
    "for item in gen_obj:\n",
    "    print(item)"
   ]
  },
  {
   "cell_type": "code",
   "execution_count": 127,
   "id": "fd6ad9a6",
   "metadata": {},
   "outputs": [
    {
     "data": {
      "text/plain": [
       "'The fox jumps over the dog'"
      ]
     },
     "execution_count": 127,
     "metadata": {},
     "output_type": "execute_result"
    }
   ],
   "source": [
    "csv_string = 'The,fox,jumps,over,the,dog'\n",
    "gen_obj = (item for item in csv_string.split(','))\n",
    "nima = ' '.join(gen_obj)\n",
    "nima"
   ]
  },
  {
   "cell_type": "markdown",
   "id": "171c7c51",
   "metadata": {},
   "source": [
    "# کلاس"
   ]
  },
  {
   "cell_type": "code",
   "execution_count": 128,
   "id": "2edf7c37",
   "metadata": {},
   "outputs": [],
   "source": [
    "class Animal(object):\n",
    "    species = 'Animal'\n",
    "    \n",
    "    def __init__(self, name):\n",
    "        self.name = name\n",
    "        self.attributes = []\n",
    "        \n",
    "    def add_attributes(self, attributes):\n",
    "        self.attributes.extend(attributes)\n",
    "        if type(attributes) == list:\n",
    "            pass\n",
    "        else:\n",
    "            self.attributes.append(attributes)\n",
    "    \n",
    "    def __str__(self):\n",
    "        return self.name + ' is type of ' + self.species + ' and has attributes: ' + str(self.attributes)"
   ]
  },
  {
   "cell_type": "code",
   "execution_count": 129,
   "id": "a02dfe34",
   "metadata": {},
   "outputs": [
    {
     "data": {
      "text/plain": [
       "\"Rover is type of Animal and has attributes: ['runs', 'eats', 'dog']\""
      ]
     },
     "execution_count": 129,
     "metadata": {},
     "output_type": "execute_result"
    }
   ],
   "source": [
    "a1 = Animal('Rover')\n",
    "\n",
    "a1.add_attributes(['runs', 'eats', 'dog'])\n",
    "\n",
    "str(a1)"
   ]
  },
  {
   "cell_type": "code",
   "execution_count": null,
   "id": "82ed9263",
   "metadata": {},
   "outputs": [],
   "source": []
  }
 ],
 "metadata": {
  "kernelspec": {
   "display_name": "Python 3 (ipykernel)",
   "language": "python",
   "name": "python3"
  },
  "language_info": {
   "codemirror_mode": {
    "name": "ipython",
    "version": 3
   },
   "file_extension": ".py",
   "mimetype": "text/x-python",
   "name": "python",
   "nbconvert_exporter": "python",
   "pygments_lexer": "ipython3",
   "version": "3.10.9"
  }
 },
 "nbformat": 4,
 "nbformat_minor": 5
}
